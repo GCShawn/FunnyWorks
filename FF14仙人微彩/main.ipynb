{
 "cells": [
  {
   "cell_type": "code",
   "execution_count": 12,
   "metadata": {
    "ExecuteTime": {
     "end_time": "2020-12-04T09:28:06.284298Z",
     "start_time": "2020-12-04T09:28:06.279305Z"
    }
   },
   "outputs": [],
   "source": [
    "import numpy as np\n",
    "import random\n",
    "from itertools import permutations\n",
    "from collections import Counter\n",
    "import pandas as pd\n",
    "\n",
    "import time\n",
    "import random\n",
    "from multiprocessing import Process\n",
    "\n",
    "import multiprocessing as mp"
   ]
  },
  {
   "cell_type": "code",
   "execution_count": 2,
   "metadata": {
    "ExecuteTime": {
     "end_time": "2020-12-04T09:23:40.941116Z",
     "start_time": "2020-12-04T09:23:40.938116Z"
    }
   },
   "outputs": [],
   "source": [
    "def dataframeToCSV(data, file_path, mode=\"w\", index=False, encoding='utf_8_sig'):\n",
    "    # index:False(不显示列名),True(显示列名);encoding:'utf_8_sig'(确保中文不乱码)\n",
    "    data.to_csv(file_path, mode=mode, index=index, encoding=encoding)\n",
    "    \n",
    "def changeCol(df_base,dic,inplace = True):\n",
    "    df = df_base.rename(columns = dic, inplace = inplace)\n",
    "    return df"
   ]
  },
  {
   "cell_type": "code",
   "execution_count": 3,
   "metadata": {
    "ExecuteTime": {
     "end_time": "2020-12-04T09:23:40.948118Z",
     "start_time": "2020-12-04T09:23:40.943117Z"
    }
   },
   "outputs": [],
   "source": [
    "win = {6: 10000, 7: 36, 8: 720, 9: 360, 10: 80, 11: 252,\n",
    "       12: 108, 13: 72, 14: 54, 15: 180, 16: 72, 17: 180,\n",
    "       18: 119, 19: 36, 20: 306, 21: 1080, 22: 144, 23: 1800, 24: 3600}\n",
    "stand = np.array([1.,2.,3.,4.,5.,6.,7.,8.,9.,0.])\n",
    "hide_style = [1, 1, 1, 1, 0, 0, 0, 0, 0]"
   ]
  },
  {
   "cell_type": "code",
   "execution_count": 4,
   "metadata": {
    "ExecuteTime": {
     "end_time": "2020-12-04T09:23:40.988127Z",
     "start_time": "2020-12-04T09:23:40.950119Z"
    }
   },
   "outputs": [],
   "source": [
    "def bigger(mt):\n",
    "    left = np.zeros((3,1))\n",
    "    up_down = np.zeros((1,4))\n",
    "    right = np.zeros((5,1))\n",
    "    mt = np.c_[left,mt]\n",
    "    mt = np.r_[mt,up_down]\n",
    "    mt = np.r_[up_down,mt]\n",
    "    mt = np.c_[mt,right]\n",
    "    return mt\n",
    "\n",
    "def slight(mt):\n",
    "    mt = mt[1:4,1:4]\n",
    "    return mt\n",
    "\n",
    "def count_win_point(mt):\n",
    "    mt_tmp = np.array(mt)\n",
    "    #传入3*3矩阵\n",
    "    mt_tmp = bigger(mt_tmp)\n",
    "    \n",
    "    #处理三行\n",
    "    result_line = []\n",
    "    for i in range(1,4):\n",
    "        mt_tmp[4-i][0] = win[(mt_tmp[4-i][1]+mt_tmp[4-i][2]+mt_tmp[4-i][3])]\n",
    "        result_line.append(mt_tmp[4-i][0])\n",
    "        \n",
    "    #处理对角线\n",
    "    mt_tmp[0][0] = win[(mt_tmp[1][1]+mt_tmp[2][2]+mt_tmp[3][3])]\n",
    "    result_line.append(mt_tmp[0][0])\n",
    "    \n",
    "    #处理三列\n",
    "    for j in range(1,4):\n",
    "        mt_tmp[0][j] = win[(mt_tmp[1][j]+mt_tmp[2][j]+mt_tmp[3][j])]\n",
    "        result_line.append(mt_tmp[0][j])\n",
    "        \n",
    "    #处理对角线\n",
    "    mt_tmp[0][4] = win[(mt_tmp[3][1]+mt_tmp[2][2]+mt_tmp[1][3])]\n",
    "    result_line.append(mt_tmp[0][4])\n",
    "    \n",
    "    result_line = np.array(result_line)\n",
    "    mt_tmp = slight(mt_tmp)\n",
    "    #传出计算条\n",
    "    return result_line\n",
    "\n",
    "\n",
    "def count_the_possible_point(mt):\n",
    "    mt_tmp = np.array(mt)\n",
    "    #传入缺失元素的3*3矩阵，传出每一行的期望获得量\n",
    "    mt_tmp = mt_tmp.reshape(1,9)[0]\n",
    "    #找到缺失的元素并对于缺失的元素全排列\n",
    "    \n",
    "    miss = []\n",
    "    for i in stand:\n",
    "        if i not in mt_tmp:\n",
    "            miss.append(i)\n",
    "    localtion = np.where(mt_tmp==0)\n",
    "    all_possible_miss = list(permutations(miss))\n",
    "    \n",
    "    point_total = np.array([0,0,0,0,0,0,0,0])\n",
    "    for i in range(len(all_possible_miss)):\n",
    "        for j in range(5):\n",
    "            mt_tmp[localtion[0][j]] = all_possible_miss[i][j]\n",
    "        mt_tmp = mt_tmp.reshape(3,3)\n",
    "        point = count_win_point(mt_tmp)\n",
    "        mt_tmp = mt_tmp.reshape(1,9)[0]\n",
    "        point_total = point_total + point\n",
    "    point_total = point_total/len(all_possible_miss)\n",
    "    return point_total"
   ]
  },
  {
   "cell_type": "code",
   "execution_count": 5,
   "metadata": {
    "ExecuteTime": {
     "end_time": "2020-12-04T09:23:41.073145Z",
     "start_time": "2020-12-04T09:23:40.990127Z"
    }
   },
   "outputs": [
    {
     "data": {
      "text/plain": [
       "array([[0, 1, 0],\n",
       "       [0, 1, 1],\n",
       "       [0, 0, 1]])"
      ]
     },
     "execution_count": 5,
     "metadata": {},
     "output_type": "execute_result"
    }
   ],
   "source": [
    "all_possible_hide_style = list(set(list(permutations(hide_style))))\n",
    "\n",
    "all_possible_hide_style1 = all_possible_hide_style[:32]\n",
    "all_possible_hide_style2 = all_possible_hide_style[32:64]\n",
    "all_possible_hide_style3 = all_possible_hide_style[64:96]\n",
    "all_possible_hide_style4 = all_possible_hide_style[96:]\n",
    "\n",
    "np.array(all_possible_hide_style[1]).reshape(3,3)"
   ]
  },
  {
   "cell_type": "code",
   "execution_count": 16,
   "metadata": {
    "ExecuteTime": {
     "end_time": "2020-12-04T09:30:42.802982Z",
     "start_time": "2020-12-04T09:30:42.793978Z"
    }
   },
   "outputs": [],
   "source": [
    "def count_one(all_possible_hide_style,output_path):\n",
    "    style_outcome_choose = []\n",
    "    for hide_style in all_possible_hide_style:\n",
    "        sum_of_point = 0\n",
    "        loop = 100\n",
    "        part_style_outcome_choose = []\n",
    "        choose_record = []\n",
    "\n",
    "        for i in range(loop):\n",
    "            if i%2000 == 0:\n",
    "                print(\"计算进行到了 %s \" %i)\n",
    "\n",
    "            base_mat = np.arange(1, 10, 1)\n",
    "            random.shuffle(base_mat)\n",
    "\n",
    "            #与之对应的遮掩矩阵\n",
    "            hide_mat = base_mat[:]\n",
    "            hide_mat = np.array(list(map(lambda x,y:x*y,hide_mat,hide_style)))\n",
    "\n",
    "            #修改矩阵形式3*3\n",
    "            base_mat = base_mat.reshape(3,3)\n",
    "            hide_mat = hide_mat.reshape(3,3)\n",
    "\n",
    "            #计算\n",
    "            base_result_line = count_win_point(base_mat)\n",
    "            hide_result_line = count_the_possible_point(hide_mat) \n",
    "\n",
    "\n",
    "            choose = np.where(hide_result_line == max(hide_result_line))[0][0]\n",
    "            choose_record.append(choose)\n",
    "\n",
    "        #     print(\"两者相差:\")\n",
    "            minus = max(base_result_line)-base_result_line[np.where(hide_result_line == max(hide_result_line))[0][0]]\n",
    "        #     print(minus)\n",
    "            sum_of_point = sum_of_point + minus\n",
    "\n",
    "        choose_record = Counter(choose_record).most_common(3)\n",
    "\n",
    "        print(\"这个遮掩矩阵为\")\n",
    "        print(np.array(hide_style).reshape(3,3),end = '  ')\n",
    "        print(\"这个遮掩方式下的差距值为 %d\" %(sum_of_point/loop))\n",
    "        print(\"最喜欢选取的3种方式为\")\n",
    "        print(choose_record)\n",
    "\n",
    "        part_style_outcome_choose.append(np.array(hide_style).reshape(3,3))\n",
    "        part_style_outcome_choose.append((sum_of_point/loop))\n",
    "        part_style_outcome_choose.append(choose_record)\n",
    "\n",
    "        style_outcome_choose.append(part_style_outcome_choose)\n",
    "        \n",
    "    df_outcome = pd.DataFrame(style_outcome_choose)\n",
    "    changeCol(df_outcome,{0:'遮掩方式',1:\"差值\",2:\"前三种爱选的方式\"})\n",
    "    df_outcome.head()\n",
    "    dataframeToCSV(df_outcome,output_path)\n",
    "    return 0"
   ]
  },
  {
   "cell_type": "code",
   "execution_count": 20,
   "metadata": {
    "ExecuteTime": {
     "end_time": "2020-12-04T09:33:42.912427Z",
     "start_time": "2020-12-04T09:33:42.901423Z"
    }
   },
   "outputs": [
    {
     "ename": "NameError",
     "evalue": "name 'freeze_support' is not defined",
     "output_type": "error",
     "traceback": [
      "\u001b[1;31m---------------------------------------------------------------------------\u001b[0m",
      "\u001b[1;31mNameError\u001b[0m                                 Traceback (most recent call last)",
      "\u001b[1;32m<ipython-input-20-7f653fa6986e>\u001b[0m in \u001b[0;36m<module>\u001b[1;34m\u001b[0m\n\u001b[0;32m      1\u001b[0m \u001b[1;32mif\u001b[0m \u001b[0m__name__\u001b[0m \u001b[1;33m==\u001b[0m \u001b[1;34m'__main__'\u001b[0m\u001b[1;33m:\u001b[0m\u001b[1;33m\u001b[0m\u001b[1;33m\u001b[0m\u001b[0m\n\u001b[1;32m----> 2\u001b[1;33m     \u001b[0mfreeze_support\u001b[0m\u001b[1;33m(\u001b[0m\u001b[1;33m)\u001b[0m\u001b[1;33m\u001b[0m\u001b[1;33m\u001b[0m\u001b[0m\n\u001b[0m\u001b[0;32m      3\u001b[0m     \u001b[0mprint\u001b[0m\u001b[1;33m(\u001b[0m\u001b[1;34m\"make\"\u001b[0m\u001b[1;33m)\u001b[0m\u001b[1;33m\u001b[0m\u001b[1;33m\u001b[0m\u001b[0m\n\u001b[0;32m      4\u001b[0m     \u001b[0mp1\u001b[0m\u001b[1;33m=\u001b[0m\u001b[0mProcess\u001b[0m\u001b[1;33m(\u001b[0m\u001b[0mtarget\u001b[0m\u001b[1;33m=\u001b[0m\u001b[0mcount_one\u001b[0m\u001b[1;33m,\u001b[0m\u001b[0margs\u001b[0m\u001b[1;33m=\u001b[0m\u001b[1;33m(\u001b[0m\u001b[0mall_possible_hide_style1\u001b[0m\u001b[1;33m,\u001b[0m\u001b[1;34m\"out1.csv\"\u001b[0m\u001b[1;33m,\u001b[0m\u001b[1;33m)\u001b[0m\u001b[1;33m)\u001b[0m \u001b[1;31m#必须加,号\u001b[0m\u001b[1;33m\u001b[0m\u001b[1;33m\u001b[0m\u001b[0m\n\u001b[0;32m      5\u001b[0m     \u001b[0mp2\u001b[0m\u001b[1;33m=\u001b[0m\u001b[0mProcess\u001b[0m\u001b[1;33m(\u001b[0m\u001b[0mtarget\u001b[0m\u001b[1;33m=\u001b[0m\u001b[0mcount_one\u001b[0m\u001b[1;33m,\u001b[0m\u001b[0margs\u001b[0m\u001b[1;33m=\u001b[0m\u001b[1;33m(\u001b[0m\u001b[0mall_possible_hide_style2\u001b[0m\u001b[1;33m,\u001b[0m\u001b[1;34m\"out2.csv\"\u001b[0m\u001b[1;33m,\u001b[0m\u001b[1;33m)\u001b[0m\u001b[1;33m)\u001b[0m\u001b[1;33m\u001b[0m\u001b[1;33m\u001b[0m\u001b[0m\n",
      "\u001b[1;31mNameError\u001b[0m: name 'freeze_support' is not defined"
     ]
    }
   ],
   "source": [
    "if __name__ == '__main__':\n",
    "    \n",
    "    print(\"make\")\n",
    "    p1=Process(target=count_one,args=(all_possible_hide_style1,\"out1.csv\",)) #必须加,号 \n",
    "    p2=Process(target=count_one,args=(all_possible_hide_style2,\"out2.csv\",))\n",
    "    p3=Process(target=count_one,args=(all_possible_hide_style3,\"out3.csv\",))\n",
    "    p4=Process(target=count_one,args=(all_possible_hide_style4,\"out4.csv\",))\n",
    "    \n",
    "    p1.start()\n",
    "    p2.start()\n",
    "    p3.start()\n",
    "    p4.start()\n",
    "    print('主线程')"
   ]
  },
  {
   "cell_type": "code",
   "execution_count": null,
   "metadata": {
    "ExecuteTime": {
     "start_time": "2020-12-04T09:37:57.020Z"
    }
   },
   "outputs": [],
   "source": []
  }
 ],
 "metadata": {
  "kernelspec": {
   "display_name": "Python 3",
   "language": "python",
   "name": "python3"
  },
  "language_info": {
   "codemirror_mode": {
    "name": "ipython",
    "version": 3
   },
   "file_extension": ".py",
   "mimetype": "text/x-python",
   "name": "python",
   "nbconvert_exporter": "python",
   "pygments_lexer": "ipython3",
   "version": "3.7.6"
  },
  "toc": {
   "base_numbering": 1,
   "nav_menu": {},
   "number_sections": true,
   "sideBar": true,
   "skip_h1_title": false,
   "title_cell": "Table of Contents",
   "title_sidebar": "Contents",
   "toc_cell": false,
   "toc_position": {},
   "toc_section_display": true,
   "toc_window_display": false
  },
  "varInspector": {
   "cols": {
    "lenName": 16,
    "lenType": 16,
    "lenVar": 40
   },
   "kernels_config": {
    "python": {
     "delete_cmd_postfix": "",
     "delete_cmd_prefix": "del ",
     "library": "var_list.py",
     "varRefreshCmd": "print(var_dic_list())"
    },
    "r": {
     "delete_cmd_postfix": ") ",
     "delete_cmd_prefix": "rm(",
     "library": "var_list.r",
     "varRefreshCmd": "cat(var_dic_list()) "
    }
   },
   "types_to_exclude": [
    "module",
    "function",
    "builtin_function_or_method",
    "instance",
    "_Feature"
   ],
   "window_display": false
  }
 },
 "nbformat": 4,
 "nbformat_minor": 4
}
