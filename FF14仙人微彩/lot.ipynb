{
 "cells": [
  {
   "cell_type": "code",
   "execution_count": 1,
   "metadata": {
    "ExecuteTime": {
     "end_time": "2020-12-04T09:05:54.186281Z",
     "start_time": "2020-12-04T09:05:53.771185Z"
    }
   },
   "outputs": [],
   "source": [
    "import numpy as np\n",
    "import random\n",
    "from itertools import permutations\n",
    "from collections import Counter\n",
    "import pandas as pd"
   ]
  },
  {
   "cell_type": "code",
   "execution_count": 2,
   "metadata": {
    "ExecuteTime": {
     "end_time": "2020-12-04T09:05:54.191276Z",
     "start_time": "2020-12-04T09:05:54.188274Z"
    }
   },
   "outputs": [],
   "source": [
    "def dataframeToCSV(data, file_path, mode=\"w\", index=False, encoding='utf_8_sig'):\n",
    "    # index:False(不显示列名),True(显示列名);encoding:'utf_8_sig'(确保中文不乱码)\n",
    "    data.to_csv(file_path, mode=mode, index=index, encoding=encoding)\n",
    "    \n",
    "def changeCol(df_base,dic,inplace = True):\n",
    "    df = df_base.rename(columns = dic, inplace = inplace)\n",
    "    return df"
   ]
  },
  {
   "cell_type": "code",
   "execution_count": 3,
   "metadata": {
    "ExecuteTime": {
     "end_time": "2020-12-04T09:05:54.200277Z",
     "start_time": "2020-12-04T09:05:54.193277Z"
    }
   },
   "outputs": [],
   "source": [
    "win = {6: 10000, 7: 36, 8: 720, 9: 360, 10: 80, 11: 252,\n",
    "       12: 108, 13: 72, 14: 54, 15: 180, 16: 72, 17: 180,\n",
    "       18: 119, 19: 36, 20: 306, 21: 1080, 22: 144, 23: 1800, 24: 3600}\n",
    "stand = np.array([1.,2.,3.,4.,5.,6.,7.,8.,9.,0.])\n",
    "hide_style = [1, 1, 1, 1, 0, 0, 0, 0, 0]"
   ]
  },
  {
   "cell_type": "code",
   "execution_count": 4,
   "metadata": {
    "ExecuteTime": {
     "end_time": "2020-12-04T09:05:54.223284Z",
     "start_time": "2020-12-04T09:05:54.203278Z"
    }
   },
   "outputs": [],
   "source": [
    "def bigger(mt):\n",
    "    left = np.zeros((3,1))\n",
    "    up_down = np.zeros((1,4))\n",
    "    right = np.zeros((5,1))\n",
    "    mt = np.c_[left,mt]\n",
    "    mt = np.r_[mt,up_down]\n",
    "    mt = np.r_[up_down,mt]\n",
    "    mt = np.c_[mt,right]\n",
    "    return mt\n",
    "\n",
    "def slight(mt):\n",
    "    mt = mt[1:4,1:4]\n",
    "    return mt\n",
    "\n",
    "def count_win_point(mt):\n",
    "    mt_tmp = np.array(mt)\n",
    "    #传入3*3矩阵\n",
    "    mt_tmp = bigger(mt_tmp)\n",
    "    \n",
    "    #处理三行\n",
    "    result_line = []\n",
    "    for i in range(1,4):\n",
    "        mt_tmp[4-i][0] = win[(mt_tmp[4-i][1]+mt_tmp[4-i][2]+mt_tmp[4-i][3])]\n",
    "        result_line.append(mt_tmp[4-i][0])\n",
    "        \n",
    "    #处理对角线\n",
    "    mt_tmp[0][0] = win[(mt_tmp[1][1]+mt_tmp[2][2]+mt_tmp[3][3])]\n",
    "    result_line.append(mt_tmp[0][0])\n",
    "    \n",
    "    #处理三列\n",
    "    for j in range(1,4):\n",
    "        mt_tmp[0][j] = win[(mt_tmp[1][j]+mt_tmp[2][j]+mt_tmp[3][j])]\n",
    "        result_line.append(mt_tmp[0][j])\n",
    "        \n",
    "    #处理对角线\n",
    "    mt_tmp[0][4] = win[(mt_tmp[3][1]+mt_tmp[2][2]+mt_tmp[1][3])]\n",
    "    result_line.append(mt_tmp[0][4])\n",
    "    \n",
    "    result_line = np.array(result_line)\n",
    "    mt_tmp = slight(mt_tmp)\n",
    "    #传出计算条\n",
    "    return result_line\n",
    "\n",
    "\n",
    "def count_the_possible_point(mt):\n",
    "    mt_tmp = np.array(mt)\n",
    "    #传入缺失元素的3*3矩阵，传出每一行的期望获得量\n",
    "    mt_tmp = mt_tmp.reshape(1,9)[0]\n",
    "    #找到缺失的元素并对于缺失的元素全排列\n",
    "    \n",
    "    miss = []\n",
    "    for i in stand:\n",
    "        if i not in mt_tmp:\n",
    "            miss.append(i)\n",
    "    localtion = np.where(mt_tmp==0)\n",
    "    all_possible_miss = list(permutations(miss))\n",
    "    \n",
    "    point_total = np.array([0,0,0,0,0,0,0,0])\n",
    "    for i in range(len(all_possible_miss)):\n",
    "        for j in range(5):\n",
    "            mt_tmp[localtion[0][j]] = all_possible_miss[i][j]\n",
    "        mt_tmp = mt_tmp.reshape(3,3)\n",
    "        point = count_win_point(mt_tmp)\n",
    "        mt_tmp = mt_tmp.reshape(1,9)[0]\n",
    "        point_total = point_total + point\n",
    "    point_total = point_total/len(all_possible_miss)\n",
    "    return point_total"
   ]
  },
  {
   "cell_type": "code",
   "execution_count": 5,
   "metadata": {
    "ExecuteTime": {
     "end_time": "2020-12-04T09:05:54.234285Z",
     "start_time": "2020-12-04T09:05:54.227284Z"
    }
   },
   "outputs": [],
   "source": [
    "# #随机遮掩style，生成遮掩后的矩阵\n",
    "# random.shuffle(hide_style)"
   ]
  },
  {
   "cell_type": "code",
   "execution_count": 6,
   "metadata": {
    "ExecuteTime": {
     "end_time": "2020-12-04T09:05:54.246287Z",
     "start_time": "2020-12-04T09:05:54.237286Z"
    },
    "scrolled": true
   },
   "outputs": [],
   "source": [
    "if 0 ==1:\n",
    "    #生成初级矩阵\n",
    "    base_mat = np.arange(1, 10, 1)\n",
    "    random.shuffle(base_mat)\n",
    "\n",
    "    #与之对应的遮掩矩阵\n",
    "    hide_mat = base_mat[:]\n",
    "    hide_mat = np.array(list(map(lambda x,y:x*y,hide_mat,hide_style)))\n",
    "\n",
    "    #修改矩阵形式3*3\n",
    "    base_mat = base_mat.reshape(3,3)\n",
    "    hide_mat = hide_mat.reshape(3,3)\n",
    "\n",
    "    print(\"初始矩阵的状况是:\")\n",
    "    print(base_mat)\n",
    "    print(\"遮掩矩阵的状况是:\")\n",
    "    print(hide_mat)\n",
    "    print(\"在0处遮掩:\")\n",
    "    print(np.array(hide_style).reshape(3,3))\n",
    "\n",
    "    #计算\n",
    "    base_result_line = count_win_point(base_mat)\n",
    "    hide_result_line = count_the_possible_point(hide_mat)\n",
    "    print(\"初始矩阵的得点:\")\n",
    "    print(base_result_line)\n",
    "    print(\"遮掩矩阵的得点:\")\n",
    "    print(hide_result_line)\n",
    "    print(\"两者分别选取:\")\n",
    "    print(np.where(base_result_line == max(base_result_line))[0][0],end = '  ')\n",
    "    print(np.where(hide_result_line == max(hide_result_line))[0][0])\n",
    "    print(\"两者相差:\")\n",
    "    print(max(base_result_line)-base_result_line[np.where(hide_result_line == max(hide_result_line))[0][0]])"
   ]
  },
  {
   "cell_type": "code",
   "execution_count": 7,
   "metadata": {
    "ExecuteTime": {
     "end_time": "2020-12-04T09:05:54.367315Z",
     "start_time": "2020-12-04T09:05:54.251289Z"
    }
   },
   "outputs": [
    {
     "data": {
      "text/plain": [
       "array([[0, 1, 0],\n",
       "       [0, 1, 1],\n",
       "       [0, 0, 1]])"
      ]
     },
     "execution_count": 7,
     "metadata": {},
     "output_type": "execute_result"
    }
   ],
   "source": [
    "all_possible_hide_style = list(set(list(permutations(hide_style))))\n",
    "np.array(all_possible_hide_style[1]).reshape(3,3)"
   ]
  },
  {
   "cell_type": "code",
   "execution_count": null,
   "metadata": {
    "ExecuteTime": {
     "start_time": "2020-12-04T09:05:53.762Z"
    },
    "scrolled": true
   },
   "outputs": [
    {
     "name": "stdout",
     "output_type": "stream",
     "text": [
      "计算进行到了 0 \n",
      "计算进行到了 2000 \n",
      "计算进行到了 4000 \n",
      "计算进行到了 6000 \n",
      "计算进行到了 8000 \n",
      "这个遮掩矩阵为\n",
      "[[0 1 1]\n",
      " [1 0 1]\n",
      " [0 0 0]]  这个遮掩方式下的差距值为 693\n",
      "最喜欢选取的3种方式为\n",
      "[(0, 2002), (7, 1802), (4, 1773)]\n",
      "计算进行到了 0 \n",
      "计算进行到了 2000 \n",
      "计算进行到了 4000 \n",
      "计算进行到了 6000 \n",
      "计算进行到了 8000 \n",
      "这个遮掩矩阵为\n",
      "[[0 1 0]\n",
      " [0 1 1]\n",
      " [0 0 1]]  这个遮掩方式下的差距值为 562\n",
      "最喜欢选取的3种方式为\n",
      "[(4, 1722), (7, 1714), (0, 1526)]\n",
      "计算进行到了 0 \n",
      "计算进行到了 2000 \n",
      "计算进行到了 4000 \n",
      "计算进行到了 6000 \n",
      "计算进行到了 8000 \n",
      "这个遮掩矩阵为\n",
      "[[1 0 0]\n",
      " [0 0 1]\n",
      " [0 1 1]]  这个遮掩方式下的差距值为 714\n",
      "最喜欢选取的3种方式为\n",
      "[(7, 2117), (2, 1773), (5, 1708)]\n",
      "计算进行到了 0 \n",
      "计算进行到了 2000 \n",
      "计算进行到了 4000 \n",
      "计算进行到了 6000 \n",
      "计算进行到了 8000 \n",
      "这个遮掩矩阵为\n",
      "[[0 1 0]\n",
      " [1 1 1]\n",
      " [0 0 0]]  这个遮掩方式下的差距值为 678\n",
      "最喜欢选取的3种方式为\n",
      "[(3, 1903), (0, 1850), (4, 1696)]\n",
      "计算进行到了 0 \n",
      "计算进行到了 2000 \n",
      "计算进行到了 4000 \n",
      "计算进行到了 6000 \n",
      "计算进行到了 8000 \n",
      "这个遮掩矩阵为\n",
      "[[0 1 1]\n",
      " [0 0 0]\n",
      " [1 0 1]]  这个遮掩方式下的差距值为 595\n",
      "最喜欢选取的3种方式为\n",
      "[(1, 1757), (4, 1617), (3, 1615)]\n",
      "计算进行到了 0 \n",
      "计算进行到了 2000 \n",
      "计算进行到了 4000 \n",
      "计算进行到了 6000 \n",
      "计算进行到了 8000 \n",
      "这个遮掩矩阵为\n",
      "[[0 0 1]\n",
      " [0 1 0]\n",
      " [0 1 1]]  这个遮掩方式下的差距值为 550\n",
      "最喜欢选取的3种方式为\n",
      "[(4, 1754), (1, 1613), (2, 1576)]\n",
      "计算进行到了 0 \n",
      "计算进行到了 2000 \n",
      "计算进行到了 4000 \n",
      "计算进行到了 6000 \n",
      "计算进行到了 8000 \n",
      "这个遮掩矩阵为\n",
      "[[0 1 0]\n",
      " [0 1 1]\n",
      " [1 0 0]]  这个遮掩方式下的差距值为 694\n",
      "最喜欢选取的3种方式为\n",
      "[(3, 2086), (2, 1622), (0, 1558)]\n",
      "计算进行到了 0 \n",
      "计算进行到了 2000 \n",
      "计算进行到了 4000 \n",
      "计算进行到了 6000 \n",
      "计算进行到了 8000 \n",
      "这个遮掩矩阵为\n",
      "[[0 1 0]\n",
      " [0 1 0]\n",
      " [1 1 0]]  这个遮掩方式下的差距值为 626\n",
      "最喜欢选取的3种方式为\n",
      "[(1, 1863), (4, 1849), (6, 1848)]\n",
      "计算进行到了 0 \n",
      "计算进行到了 2000 \n",
      "计算进行到了 4000 \n",
      "计算进行到了 6000 \n",
      "计算进行到了 8000 \n",
      "这个遮掩矩阵为\n",
      "[[1 1 0]\n",
      " [0 0 1]\n",
      " [0 1 0]]  这个遮掩方式下的差距值为 817\n",
      "最喜欢选取的3种方式为\n",
      "[(7, 2311), (3, 2014), (0, 2009)]\n",
      "计算进行到了 0 \n",
      "计算进行到了 2000 \n",
      "计算进行到了 4000 \n",
      "计算进行到了 6000 \n",
      "计算进行到了 8000 \n",
      "这个遮掩矩阵为\n",
      "[[0 1 0]\n",
      " [0 0 0]\n",
      " [1 1 1]]  这个遮掩方式下的差距值为 785\n",
      "最喜欢选取的3种方式为\n",
      "[(1, 2225), (3, 2167), (4, 2138)]\n",
      "计算进行到了 0 \n",
      "计算进行到了 2000 \n",
      "计算进行到了 4000 \n",
      "计算进行到了 6000 \n",
      "计算进行到了 8000 \n",
      "这个遮掩矩阵为\n",
      "[[0 1 0]\n",
      " [0 0 1]\n",
      " [1 0 1]]  这个遮掩方式下的差距值为 853\n",
      "最喜欢选取的3种方式为\n",
      "[(3, 2137), (1, 1982), (4, 1887)]\n",
      "计算进行到了 0 \n",
      "计算进行到了 2000 \n",
      "计算进行到了 4000 \n",
      "计算进行到了 6000 \n",
      "计算进行到了 8000 \n",
      "这个遮掩矩阵为\n",
      "[[1 1 0]\n",
      " [0 1 0]\n",
      " [0 0 1]]  这个遮掩方式下的差距值为 722\n",
      "最喜欢选取的3种方式为\n",
      "[(4, 2178), (1, 2143), (0, 2001)]\n",
      "计算进行到了 0 \n",
      "计算进行到了 2000 \n",
      "计算进行到了 4000 \n",
      "计算进行到了 6000 \n",
      "计算进行到了 8000 \n",
      "这个遮掩矩阵为\n",
      "[[1 0 0]\n",
      " [1 0 0]\n",
      " [0 1 1]]  这个遮掩方式下的差距值为 619\n",
      "最喜欢选取的3种方式为\n",
      "[(7, 1714), (2, 1625), (6, 1596)]\n",
      "计算进行到了 0 \n",
      "计算进行到了 2000 \n",
      "计算进行到了 4000 \n",
      "计算进行到了 6000 \n",
      "计算进行到了 8000 \n",
      "这个遮掩矩阵为\n",
      "[[1 1 1]\n",
      " [0 0 0]\n",
      " [0 1 0]]  这个遮掩方式下的差距值为 723\n",
      "最喜欢选取的3种方式为\n",
      "[(1, 2217), (3, 2151), (6, 2085)]\n",
      "计算进行到了 0 \n",
      "计算进行到了 2000 \n",
      "计算进行到了 4000 \n",
      "计算进行到了 6000 \n",
      "计算进行到了 8000 \n",
      "这个遮掩矩阵为\n",
      "[[1 1 0]\n",
      " [0 1 0]\n",
      " [1 0 0]]  这个遮掩方式下的差距值为 547\n",
      "最喜欢选取的3种方式为\n",
      "[(6, 1726), (1, 1647), (0, 1507)]\n",
      "计算进行到了 0 \n",
      "计算进行到了 2000 \n",
      "计算进行到了 4000 \n",
      "计算进行到了 6000 \n",
      "计算进行到了 8000 \n",
      "这个遮掩矩阵为\n",
      "[[0 1 0]\n",
      " [1 0 0]\n",
      " [1 0 1]]  这个遮掩方式下的差距值为 785\n",
      "最喜欢选取的3种方式为\n",
      "[(7, 2231), (1, 1914), (3, 1884)]\n",
      "计算进行到了 0 \n",
      "计算进行到了 2000 \n"
     ]
    }
   ],
   "source": [
    "style_outcome_choose = []\n",
    "\n",
    "for hide_style in all_possible_hide_style:\n",
    "    sum_of_point = 0\n",
    "    loop = 10000\n",
    "    part_style_outcome_choose = []\n",
    "    choose_record = []\n",
    "    \n",
    "    for i in range(loop):\n",
    "        if i%2000 == 0:\n",
    "            print(\"计算进行到了 %s \" %i)\n",
    "\n",
    "        base_mat = np.arange(1, 10, 1)\n",
    "        random.shuffle(base_mat)\n",
    "\n",
    "        #与之对应的遮掩矩阵\n",
    "        hide_mat = base_mat[:]\n",
    "        hide_mat = np.array(list(map(lambda x,y:x*y,hide_mat,hide_style)))\n",
    "\n",
    "        #修改矩阵形式3*3\n",
    "        base_mat = base_mat.reshape(3,3)\n",
    "        hide_mat = hide_mat.reshape(3,3)\n",
    "\n",
    "        #计算\n",
    "        base_result_line = count_win_point(base_mat)\n",
    "        hide_result_line = count_the_possible_point(hide_mat) \n",
    "        \n",
    "        \n",
    "        choose = np.where(hide_result_line == max(hide_result_line))[0][0]\n",
    "        choose_record.append(choose)\n",
    "        \n",
    "    #     print(\"两者相差:\")\n",
    "        minus = max(base_result_line)-base_result_line[np.where(hide_result_line == max(hide_result_line))[0][0]]\n",
    "    #     print(minus)\n",
    "        sum_of_point = sum_of_point + minus\n",
    "        \n",
    "    choose_record = Counter(choose_record).most_common(3)\n",
    "    \n",
    "    print(\"这个遮掩矩阵为\")\n",
    "    print(np.array(hide_style).reshape(3,3),end = '  ')\n",
    "    print(\"这个遮掩方式下的差距值为 %d\" %(sum_of_point/loop))\n",
    "    print(\"最喜欢选取的3种方式为\")\n",
    "    print(choose_record)\n",
    "    \n",
    "    part_style_outcome_choose.append(np.array(hide_style).reshape(3,3))\n",
    "    part_style_outcome_choose.append((sum_of_point/loop))\n",
    "    part_style_outcome_choose.append(choose_record)\n",
    "    \n",
    "    style_outcome_choose.append(part_style_outcome_choose)"
   ]
  },
  {
   "cell_type": "code",
   "execution_count": null,
   "metadata": {
    "ExecuteTime": {
     "start_time": "2020-12-04T09:05:53.763Z"
    }
   },
   "outputs": [],
   "source": [
    "df_outcome = pd.DataFrame(style_outcome_choose)\n",
    "changeCol(df_outcome,{0:'遮掩方式',1:\"差值\",2:\"前三种爱选的方式\"})\n",
    "df_outcome.head()"
   ]
  },
  {
   "cell_type": "code",
   "execution_count": null,
   "metadata": {
    "ExecuteTime": {
     "start_time": "2020-12-04T09:05:53.765Z"
    }
   },
   "outputs": [],
   "source": [
    "dataframeToCSV(df_outcome,\"style_outcome_100000.csv\")"
   ]
  }
 ],
 "metadata": {
  "kernelspec": {
   "display_name": "Python 3",
   "language": "python",
   "name": "python3"
  },
  "language_info": {
   "codemirror_mode": {
    "name": "ipython",
    "version": 3
   },
   "file_extension": ".py",
   "mimetype": "text/x-python",
   "name": "python",
   "nbconvert_exporter": "python",
   "pygments_lexer": "ipython3",
   "version": "3.7.6"
  },
  "toc": {
   "base_numbering": 1,
   "nav_menu": {},
   "number_sections": true,
   "sideBar": true,
   "skip_h1_title": false,
   "title_cell": "Table of Contents",
   "title_sidebar": "Contents",
   "toc_cell": false,
   "toc_position": {},
   "toc_section_display": true,
   "toc_window_display": false
  },
  "varInspector": {
   "cols": {
    "lenName": 16,
    "lenType": 16,
    "lenVar": 40
   },
   "kernels_config": {
    "python": {
     "delete_cmd_postfix": "",
     "delete_cmd_prefix": "del ",
     "library": "var_list.py",
     "varRefreshCmd": "print(var_dic_list())"
    },
    "r": {
     "delete_cmd_postfix": ") ",
     "delete_cmd_prefix": "rm(",
     "library": "var_list.r",
     "varRefreshCmd": "cat(var_dic_list()) "
    }
   },
   "types_to_exclude": [
    "module",
    "function",
    "builtin_function_or_method",
    "instance",
    "_Feature"
   ],
   "window_display": false
  }
 },
 "nbformat": 4,
 "nbformat_minor": 4
}
