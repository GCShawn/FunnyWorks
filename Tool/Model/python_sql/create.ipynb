{
 "cells": [
  {
   "cell_type": "code",
   "execution_count": 1,
   "metadata": {
    "ExecuteTime": {
     "end_time": "2021-04-28T05:46:10.555804Z",
     "start_time": "2021-04-28T05:46:10.553801Z"
    }
   },
   "outputs": [],
   "source": [
    "import os\n",
    "import shutil"
   ]
  },
  {
   "cell_type": "code",
   "execution_count": 2,
   "metadata": {
    "ExecuteTime": {
     "end_time": "2021-04-28T05:46:10.568804Z",
     "start_time": "2021-04-28T05:46:10.557802Z"
    }
   },
   "outputs": [],
   "source": [
    "def duplicate(src, path):\n",
    "    shutil.copyfile(src, path, follow_symlinks = False)\n",
    "\n",
    "def mkdir(dirname = r\"./test\"):\n",
    "    key_path = r\"/KEY\"\n",
    "    output_path = r\"/OUTPUT\"\n",
    "    sql_path = r\"/SQL\"\n",
    "    \n",
    "    src_of_tool = \"./tool.ipynb\"\n",
    "    path_of_tool = dirname + r\"/tool.ipynb\"\n",
    "    \n",
    "    src_of_prototype = \"./prototype.ipynb\"\n",
    "    path_of_prototype = dirname + r\"/main.ipynb\"\n",
    "    \n",
    "    try:  \n",
    "        os.makedirs(dirname + key_path)\n",
    "        print(key_path+\"目录创建成功\")\n",
    "    except FileExistsError:\n",
    "        print(key_path+\"目录存在\")\n",
    "        \n",
    "    try:  \n",
    "        os.makedirs(dirname + output_path)\n",
    "        print(output_path+\"目录创建成功\")\n",
    "    except FileExistsError:\n",
    "        print(output_path+\"目录存在\")\n",
    "        \n",
    "    try:  \n",
    "        os.makedirs(dirname + sql_path)\n",
    "        print(sql_path+\"目录创建成功\")\n",
    "    except FileExistsError:\n",
    "        print(sql_path+\"目录存在\")\n",
    "        \n",
    "    key_origin_name = r\"/origin.json\"\n",
    "    key_test_name = r\"/test.json\"\n",
    "    \n",
    "    if os.path.exists(dirname + key_path + key_origin_name)==0:\n",
    "        file = open(dirname + key_path + key_origin_name, 'w')\n",
    "        file.write('[{\"database\":,\"user\":,\"password\":,\"host\":,\"port\":}]')\n",
    "        file.close()\n",
    "        print(key_origin_name+\"文件创建成功\")\n",
    "    else:\n",
    "        print(key_origin_name+\"文件存在\")\n",
    "        \n",
    "    if os.path.exists(dirname + key_path + key_test_name)==0:\n",
    "        file = open(dirname + key_path + key_test_name, 'w')\n",
    "        file.write('[{\"database\":,\"user\":,\"password\":,\"host\":,\"port\":}]')\n",
    "        file.close()\n",
    "        print(key_test_name+\"文件创建成功\")\n",
    "    else:\n",
    "        print(key_test_name+\"文件存在\")\n",
    "\n",
    "    duplicate(src_of_tool,path_of_tool)\n",
    "    duplicate(src_of_prototype,path_of_prototype)"
   ]
  },
  {
   "cell_type": "code",
   "execution_count": 3,
   "metadata": {
    "ExecuteTime": {
     "end_time": "2021-04-28T05:46:13.083832Z",
     "start_time": "2021-04-28T05:46:10.570805Z"
    }
   },
   "outputs": [
    {
     "name": "stdout",
     "output_type": "stream",
     "text": [
      "dirname:test\n",
      "/KEY目录创建成功\n",
      "/OUTPUT目录创建成功\n",
      "/SQL目录创建成功\n",
      "/origin.json文件创建成功\n",
      "/test.json文件创建成功\n"
     ]
    }
   ],
   "source": [
    "dirname = input(\"dirname:\")\n",
    "mkdir(dirname)"
   ]
  }
 ],
 "metadata": {
  "kernelspec": {
   "display_name": "Python 3",
   "language": "python",
   "name": "python3"
  },
  "language_info": {
   "codemirror_mode": {
    "name": "ipython",
    "version": 3
   },
   "file_extension": ".py",
   "mimetype": "text/x-python",
   "name": "python",
   "nbconvert_exporter": "python",
   "pygments_lexer": "ipython3",
   "version": "3.7.6"
  },
  "toc": {
   "base_numbering": 1,
   "nav_menu": {},
   "number_sections": true,
   "sideBar": true,
   "skip_h1_title": false,
   "title_cell": "Table of Contents",
   "title_sidebar": "Contents",
   "toc_cell": false,
   "toc_position": {},
   "toc_section_display": true,
   "toc_window_display": false
  },
  "varInspector": {
   "cols": {
    "lenName": 16,
    "lenType": 16,
    "lenVar": 40
   },
   "kernels_config": {
    "python": {
     "delete_cmd_postfix": "",
     "delete_cmd_prefix": "del ",
     "library": "var_list.py",
     "varRefreshCmd": "print(var_dic_list())"
    },
    "r": {
     "delete_cmd_postfix": ") ",
     "delete_cmd_prefix": "rm(",
     "library": "var_list.r",
     "varRefreshCmd": "cat(var_dic_list()) "
    }
   },
   "types_to_exclude": [
    "module",
    "function",
    "builtin_function_or_method",
    "instance",
    "_Feature"
   ],
   "window_display": false
  }
 },
 "nbformat": 4,
 "nbformat_minor": 4
}
