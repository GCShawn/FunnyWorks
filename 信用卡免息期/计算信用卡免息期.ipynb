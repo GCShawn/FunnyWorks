{
 "cells": [
  {
   "cell_type": "code",
   "execution_count": 1,
   "metadata": {
    "ExecuteTime": {
     "end_time": "2021-01-14T09:40:59.650151Z",
     "start_time": "2021-01-14T09:40:47.434350Z"
    }
   },
   "outputs": [],
   "source": [
    "# -*- coding: utf-8 -*-\n",
    "\"\"\"\n",
    "Created on Tue Aug 18 11:09:44 2020\n",
    "@author: ShawnXiong\n",
    "\"\"\"\n",
    "import pandas as pd\n",
    "import json\n",
    "import datetime\n",
    "from dateutil.relativedelta import relativedelta"
   ]
  },
  {
   "cell_type": "code",
   "execution_count": 2,
   "metadata": {
    "ExecuteTime": {
     "end_time": "2021-01-14T09:40:59.655037Z",
     "start_time": "2021-01-14T09:40:59.651128Z"
    }
   },
   "outputs": [],
   "source": [
    "now = datetime.datetime.now().date()\n",
    "calcu_end_date = now + relativedelta(months = 2)"
   ]
  },
  {
   "cell_type": "code",
   "execution_count": 3,
   "metadata": {
    "ExecuteTime": {
     "end_time": "2021-01-14T09:40:59.663832Z",
     "start_time": "2021-01-14T09:40:59.657969Z"
    }
   },
   "outputs": [],
   "source": [
    "# In[]\n",
    "#用户填写的信息\n",
    "#===============日期信息===============#\n",
    "day_of_bill = {\"jt\":\"05\",\"zs\":\"17\",'hb':'10'}#账单日\n",
    "day_of_pay = {\"jt\":(1,\"01\"),\"zs\":(1,\"05\"),'hb':(0,'20')}#还款日,（A，B）当月A为0，次月A为1，B为日期\n",
    "#===============日期信息===============#"
   ]
  },
  {
   "cell_type": "code",
   "execution_count": 4,
   "metadata": {
    "ExecuteTime": {
     "end_time": "2021-01-14T09:40:59.672627Z",
     "start_time": "2021-01-14T09:40:59.665785Z"
    }
   },
   "outputs": [],
   "source": [
    "# In[]\n",
    "#辅助信息，不需要用户操作\n",
    "#===============创建bank===============#\n",
    "bank_list = list(set(day_of_bill).intersection(set(day_of_pay))) #取交集获得可以操作的银行名字列表\n",
    "bank = locals()\n",
    "for i in bank_list:\n",
    "    bank[\"pair_of_\" + i + \"_bill_next_pay\"] = []\n",
    "#===============创建bank===============#\n",
    "\n",
    "#===============辅助信息===============#\n",
    "year = now.year\n",
    "month_next_pay = {0:'02',1:'03',2:'04',3:'05',4:'06',5:'07',6:'08',7:'09',8:'10',9:'11',10:'12',11:'01'}\n",
    "month = {0:'01',1:'02',2:'03',3:'04',4:'05',5:'06',6:'07',7:'08',8:'09',9:'10',10:'11',11:'12'}\n",
    "#===============辅助信息===============#"
   ]
  },
  {
   "cell_type": "code",
   "execution_count": 5,
   "metadata": {
    "ExecuteTime": {
     "end_time": "2021-01-14T09:40:59.685330Z",
     "start_time": "2021-01-14T09:40:59.675561Z"
    }
   },
   "outputs": [],
   "source": [
    "# In[]\n",
    "#制作时间轴函数\n",
    "def make_timeline(Bank,Pair,Year):\n",
    "    for i in range(0,12):\n",
    "        if i < 11:\n",
    "            cell = ['','']\n",
    "            cell[0] = datetime.datetime.strptime(str(Year) + month[i] + day_of_bill[Bank],\"%Y%m%d\").date()\n",
    "            \n",
    "            if day_of_pay[Bank][0] == 1:\n",
    "                month_tmp = month_next_pay[i]\n",
    "            else:\n",
    "                month_tmp = month[i]\n",
    "                \n",
    "            cell[1] = datetime.datetime.strptime(str(Year) + month_tmp + day_of_pay[Bank][1],\"%Y%m%d\").date()\n",
    "            Pair.append(cell)\n",
    "        elif i == 11:\n",
    "            cell = ['','']\n",
    "            cell[0] = datetime.datetime.strptime(str(Year) + month[i] + day_of_bill[Bank],\"%Y%m%d\").date()\n",
    "            \n",
    "            if day_of_pay[Bank][0] == 1:\n",
    "                month_tmp = month_next_pay[i]\n",
    "            else:\n",
    "                month_tmp = month[i]\n",
    "                \n",
    "            cell[1] = datetime.datetime.strptime(str(Year+1) + month_tmp + day_of_pay[Bank][1],\"%Y%m%d\").date()\n",
    "            Pair.append(cell)"
   ]
  },
  {
   "cell_type": "code",
   "execution_count": 6,
   "metadata": {
    "ExecuteTime": {
     "end_time": "2021-01-14T09:40:59.699985Z",
     "start_time": "2021-01-14T09:40:59.689241Z"
    }
   },
   "outputs": [],
   "source": [
    "# In[]\n",
    "#制作时间轴函数\n",
    "def make_timeline(Bank,Pair,Year):\n",
    "    for i in range(0,12):\n",
    "        if i < 11:\n",
    "            cell = ['','']\n",
    "            cell[0] = datetime.datetime.strptime(str(Year) + month[i] + day_of_bill[Bank],\"%Y%m%d\").date()\n",
    "            \n",
    "            if day_of_pay[Bank][0] == 1:\n",
    "                month_tmp = month_next_pay[i]\n",
    "            else:\n",
    "                month_tmp = month[i]\n",
    "                \n",
    "            cell[1] = datetime.datetime.strptime(str(Year) + month_tmp + day_of_pay[Bank][1],\"%Y%m%d\").date()\n",
    "            Pair.append(cell)\n",
    "        elif i == 11:\n",
    "            cell = ['','']\n",
    "            cell[0] = datetime.datetime.strptime(str(Year) + month[i] + day_of_bill[Bank],\"%Y%m%d\").date()\n",
    "            \n",
    "            if day_of_pay[Bank][0] == 1:\n",
    "                month_tmp = month_next_pay[i]\n",
    "            else:\n",
    "                month_tmp = month[i]\n",
    "                \n",
    "            cell[1] = datetime.datetime.strptime(str(Year+1) + month_tmp + day_of_pay[Bank][1],\"%Y%m%d\").date()\n",
    "            Pair.append(cell)\n",
    "\n",
    "#计算比较函数\n",
    "def calcu_the_longest(BankList,Now_date):\n",
    "    float_day = {}\n",
    "    for i in BankList:\n",
    "        for j in range(len(bank[\"pair_of_\" + i + \"_bill_next_pay\"])-1):\n",
    "            if (Now_date < bank[\"pair_of_\" + i + \"_bill_next_pay\"][j+1][0]) and (Now_date >= bank[\"pair_of_\" + i + \"_bill_next_pay\"][j][0]):\n",
    "                float_day[i] = bank[\"pair_of_\" + i + \"_bill_next_pay\"][j+1][1]-Now_date\n",
    "    return max(float_day.items(),key=lambda x:x[1])\n",
    "        "
   ]
  },
  {
   "cell_type": "code",
   "execution_count": 7,
   "metadata": {
    "ExecuteTime": {
     "end_time": "2021-01-14T09:40:59.709757Z",
     "start_time": "2021-01-14T09:40:59.701941Z"
    }
   },
   "outputs": [],
   "source": [
    "# In[]\n",
    "#制作时间轴\n",
    "for i in bank_list:\n",
    "    make_timeline(Bank = i, Pair = bank[\"pair_of_\" + i + \"_bill_next_pay\"], Year = year)\n",
    "    make_timeline(Bank = i, Pair = bank[\"pair_of_\" + i + \"_bill_next_pay\"], Year = year+1)"
   ]
  },
  {
   "cell_type": "code",
   "execution_count": 8,
   "metadata": {
    "ExecuteTime": {
     "end_time": "2021-01-14T09:40:59.725402Z",
     "start_time": "2021-01-14T09:40:59.711713Z"
    }
   },
   "outputs": [
    {
     "name": "stdout",
     "output_type": "stream",
     "text": [
      "today is:2021-01-14-----use jt card, float =46\n",
      "today is:2021-01-15-----use jt card, float =45\n",
      "today is:2021-01-16-----use jt card, float =44\n",
      "today is:2021-01-17-----use zs card, float =47\n",
      "today is:2021-01-18-----use zs card, float =46\n",
      "today is:2021-01-19-----use zs card, float =45\n",
      "today is:2021-01-20-----use zs card, float =44\n",
      "today is:2021-01-21-----use zs card, float =43\n",
      "today is:2021-01-22-----use zs card, float =42\n",
      "today is:2021-01-23-----use zs card, float =41\n",
      "today is:2021-01-24-----use zs card, float =40\n",
      "today is:2021-01-25-----use zs card, float =39\n",
      "today is:2021-01-26-----use zs card, float =38\n",
      "today is:2021-01-27-----use zs card, float =37\n",
      "today is:2021-01-28-----use zs card, float =36\n",
      "today is:2021-01-29-----use zs card, float =35\n",
      "today is:2021-01-30-----use zs card, float =34\n",
      "today is:2021-01-31-----use zs card, float =33\n",
      "today is:2021-02-01-----use zs card, float =32\n",
      "today is:2021-02-02-----use zs card, float =31\n",
      "today is:2021-02-03-----use zs card, float =30\n",
      "today is:2021-02-04-----use zs card, float =29\n",
      "today is:2021-02-05-----use jt card, float =55\n",
      "today is:2021-02-06-----use jt card, float =54\n",
      "today is:2021-02-07-----use jt card, float =53\n",
      "today is:2021-02-08-----use jt card, float =52\n",
      "today is:2021-02-09-----use jt card, float =51\n",
      "today is:2021-02-10-----use jt card, float =50\n",
      "today is:2021-02-11-----use jt card, float =49\n",
      "today is:2021-02-12-----use jt card, float =48\n",
      "today is:2021-02-13-----use jt card, float =47\n",
      "today is:2021-02-14-----use jt card, float =46\n",
      "today is:2021-02-15-----use jt card, float =45\n",
      "today is:2021-02-16-----use jt card, float =44\n",
      "today is:2021-02-17-----use zs card, float =47\n",
      "today is:2021-02-18-----use zs card, float =46\n",
      "today is:2021-02-19-----use zs card, float =45\n",
      "today is:2021-02-20-----use zs card, float =44\n",
      "today is:2021-02-21-----use zs card, float =43\n",
      "today is:2021-02-22-----use zs card, float =42\n",
      "today is:2021-02-23-----use zs card, float =41\n",
      "today is:2021-02-24-----use zs card, float =40\n",
      "today is:2021-02-25-----use zs card, float =39\n",
      "today is:2021-02-26-----use zs card, float =38\n",
      "today is:2021-02-27-----use zs card, float =37\n",
      "today is:2021-02-28-----use zs card, float =36\n",
      "today is:2021-03-01-----use zs card, float =35\n",
      "today is:2021-03-02-----use zs card, float =34\n",
      "today is:2021-03-03-----use zs card, float =33\n",
      "today is:2021-03-04-----use zs card, float =32\n",
      "today is:2021-03-05-----use jt card, float =57\n",
      "today is:2021-03-06-----use jt card, float =56\n",
      "today is:2021-03-07-----use jt card, float =55\n",
      "today is:2021-03-08-----use jt card, float =54\n",
      "today is:2021-03-09-----use jt card, float =53\n",
      "today is:2021-03-10-----use jt card, float =52\n",
      "today is:2021-03-11-----use jt card, float =51\n",
      "today is:2021-03-12-----use jt card, float =50\n",
      "today is:2021-03-13-----use jt card, float =49\n",
      "today is:2021-03-14-----use jt card, float =48\n"
     ]
    }
   ],
   "source": [
    "# In[]\n",
    "#对接下来每一天判断，如果大于前一个账单日，就和下一个付款日进行判断,在一个pair中就判断大于前面的，然后用后面的减去\n",
    "while now <= calcu_end_date:\n",
    "    bank_name,float_day = calcu_the_longest(bank_list,now)\n",
    "    print(\"today is:\" + str(now) + \"-----use \"+ bank_name +\" card, float =\" + str(float_day.days))    \n",
    "    now = now + relativedelta(days = 1)"
   ]
  }
 ],
 "metadata": {
  "kernelspec": {
   "display_name": "Python 3",
   "language": "python",
   "name": "python3"
  },
  "language_info": {
   "codemirror_mode": {
    "name": "ipython",
    "version": 3
   },
   "file_extension": ".py",
   "mimetype": "text/x-python",
   "name": "python",
   "nbconvert_exporter": "python",
   "pygments_lexer": "ipython3",
   "version": "3.7.6"
  },
  "toc": {
   "base_numbering": 1,
   "nav_menu": {},
   "number_sections": true,
   "sideBar": true,
   "skip_h1_title": false,
   "title_cell": "Table of Contents",
   "title_sidebar": "Contents",
   "toc_cell": false,
   "toc_position": {},
   "toc_section_display": true,
   "toc_window_display": false
  },
  "varInspector": {
   "cols": {
    "lenName": 16,
    "lenType": 16,
    "lenVar": 40
   },
   "kernels_config": {
    "python": {
     "delete_cmd_postfix": "",
     "delete_cmd_prefix": "del ",
     "library": "var_list.py",
     "varRefreshCmd": "print(var_dic_list())"
    },
    "r": {
     "delete_cmd_postfix": ") ",
     "delete_cmd_prefix": "rm(",
     "library": "var_list.r",
     "varRefreshCmd": "cat(var_dic_list()) "
    }
   },
   "types_to_exclude": [
    "module",
    "function",
    "builtin_function_or_method",
    "instance",
    "_Feature"
   ],
   "window_display": false
  }
 },
 "nbformat": 4,
 "nbformat_minor": 4
}
